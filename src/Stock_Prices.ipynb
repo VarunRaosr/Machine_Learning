{
 "cells": [
  {
   "cell_type": "code",
   "execution_count": 1,
   "metadata": {
    "collapsed": true
   },
   "outputs": [],
   "source": [
    "import pandas as pd\n",
    "import matplotlib.pyplot as plt\n",
    "%matplotlib inline\n",
    "import math"
   ]
  },
  {
   "cell_type": "code",
   "execution_count": 2,
   "metadata": {
    "collapsed": true
   },
   "outputs": [],
   "source": [
    "from sklearn.model_selection import train_test_split\n",
    "from sklearn.linear_model import LinearRegression\n",
    "from sklearn import metrics"
   ]
  },
  {
   "cell_type": "code",
   "execution_count": 3,
   "metadata": {
    "collapsed": true
   },
   "outputs": [],
   "source": [
    "dataset = pd.read_csv(\"MSFT.csv\")"
   ]
  },
  {
   "cell_type": "code",
   "execution_count": 4,
   "metadata": {},
   "outputs": [
    {
     "data": {
      "text/html": [
       "<div>\n",
       "<style scoped>\n",
       "    .dataframe tbody tr th:only-of-type {\n",
       "        vertical-align: middle;\n",
       "    }\n",
       "\n",
       "    .dataframe tbody tr th {\n",
       "        vertical-align: top;\n",
       "    }\n",
       "\n",
       "    .dataframe thead th {\n",
       "        text-align: right;\n",
       "    }\n",
       "</style>\n",
       "<table border=\"1\" class=\"dataframe\">\n",
       "  <thead>\n",
       "    <tr style=\"text-align: right;\">\n",
       "      <th></th>\n",
       "      <th>Open</th>\n",
       "      <th>High</th>\n",
       "      <th>Low</th>\n",
       "      <th>Close</th>\n",
       "      <th>Adj Close</th>\n",
       "      <th>Volume</th>\n",
       "    </tr>\n",
       "  </thead>\n",
       "  <tbody>\n",
       "    <tr>\n",
       "      <th>count</th>\n",
       "      <td>253.000000</td>\n",
       "      <td>253.000000</td>\n",
       "      <td>253.000000</td>\n",
       "      <td>253.000000</td>\n",
       "      <td>253.000000</td>\n",
       "      <td>2.530000e+02</td>\n",
       "    </tr>\n",
       "    <tr>\n",
       "      <th>mean</th>\n",
       "      <td>150.073992</td>\n",
       "      <td>151.687115</td>\n",
       "      <td>148.347945</td>\n",
       "      <td>150.105731</td>\n",
       "      <td>149.459580</td>\n",
       "      <td>3.208340e+07</td>\n",
       "    </tr>\n",
       "    <tr>\n",
       "      <th>std</th>\n",
       "      <td>16.718858</td>\n",
       "      <td>17.140189</td>\n",
       "      <td>16.300557</td>\n",
       "      <td>16.809441</td>\n",
       "      <td>17.167431</td>\n",
       "      <td>1.816507e+07</td>\n",
       "    </tr>\n",
       "    <tr>\n",
       "      <th>min</th>\n",
       "      <td>121.279999</td>\n",
       "      <td>123.279999</td>\n",
       "      <td>119.010002</td>\n",
       "      <td>119.839996</td>\n",
       "      <td>118.712952</td>\n",
       "      <td>8.989200e+06</td>\n",
       "    </tr>\n",
       "    <tr>\n",
       "      <th>25%</th>\n",
       "      <td>137.250000</td>\n",
       "      <td>138.399994</td>\n",
       "      <td>136.029999</td>\n",
       "      <td>137.119995</td>\n",
       "      <td>136.233078</td>\n",
       "      <td>2.007820e+07</td>\n",
       "    </tr>\n",
       "    <tr>\n",
       "      <th>50%</th>\n",
       "      <td>144.399994</td>\n",
       "      <td>146.419998</td>\n",
       "      <td>142.990005</td>\n",
       "      <td>144.460007</td>\n",
       "      <td>143.577957</td>\n",
       "      <td>2.495890e+07</td>\n",
       "    </tr>\n",
       "    <tr>\n",
       "      <th>75%</th>\n",
       "      <td>162.610001</td>\n",
       "      <td>163.710007</td>\n",
       "      <td>161.029999</td>\n",
       "      <td>162.130005</td>\n",
       "      <td>161.837952</td>\n",
       "      <td>3.666960e+07</td>\n",
       "    </tr>\n",
       "    <tr>\n",
       "      <th>max</th>\n",
       "      <td>190.649994</td>\n",
       "      <td>190.699997</td>\n",
       "      <td>186.470001</td>\n",
       "      <td>188.699997</td>\n",
       "      <td>188.185989</td>\n",
       "      <td>9.707360e+07</td>\n",
       "    </tr>\n",
       "  </tbody>\n",
       "</table>\n",
       "</div>"
      ],
      "text/plain": [
       "             Open        High         Low       Close   Adj Close  \\\n",
       "count  253.000000  253.000000  253.000000  253.000000  253.000000   \n",
       "mean   150.073992  151.687115  148.347945  150.105731  149.459580   \n",
       "std     16.718858   17.140189   16.300557   16.809441   17.167431   \n",
       "min    121.279999  123.279999  119.010002  119.839996  118.712952   \n",
       "25%    137.250000  138.399994  136.029999  137.119995  136.233078   \n",
       "50%    144.399994  146.419998  142.990005  144.460007  143.577957   \n",
       "75%    162.610001  163.710007  161.029999  162.130005  161.837952   \n",
       "max    190.649994  190.699997  186.470001  188.699997  188.185989   \n",
       "\n",
       "             Volume  \n",
       "count  2.530000e+02  \n",
       "mean   3.208340e+07  \n",
       "std    1.816507e+07  \n",
       "min    8.989200e+06  \n",
       "25%    2.007820e+07  \n",
       "50%    2.495890e+07  \n",
       "75%    3.666960e+07  \n",
       "max    9.707360e+07  "
      ]
     },
     "execution_count": 4,
     "metadata": {},
     "output_type": "execute_result"
    }
   ],
   "source": [
    "dataset.describe()"
   ]
  },
  {
   "cell_type": "code",
   "execution_count": 5,
   "metadata": {
    "collapsed": true
   },
   "outputs": [],
   "source": [
    "X = dataset[[\"Open\",\"High\",\"Low\",\"Volume\"]]\n",
    "y = dataset[\"Close\"]"
   ]
  },
  {
   "cell_type": "markdown",
   "metadata": {},
   "source": [
    "####  MODEL 1"
   ]
  },
  {
   "cell_type": "code",
   "execution_count": 6,
   "metadata": {
    "collapsed": true
   },
   "outputs": [],
   "source": [
    "X_train, X_test, y_train, y_test = train_test_split( X, y, test_size=0.33, random_state=42)"
   ]
  },
  {
   "cell_type": "code",
   "execution_count": 7,
   "metadata": {},
   "outputs": [
    {
     "data": {
      "text/plain": [
       "LinearRegression(copy_X=True, fit_intercept=True, n_jobs=1, normalize=False)"
      ]
     },
     "execution_count": 7,
     "metadata": {},
     "output_type": "execute_result"
    }
   ],
   "source": [
    "model = LinearRegression()\n",
    "model.fit(X_train,y_train)"
   ]
  },
  {
   "cell_type": "code",
   "execution_count": 8,
   "metadata": {},
   "outputs": [
    {
     "data": {
      "text/plain": [
       "array([ -3.86686577e-01,   4.64206302e-01,   9.29460473e-01,\n",
       "         1.12066407e-09])"
      ]
     },
     "execution_count": 8,
     "metadata": {},
     "output_type": "execute_result"
    }
   ],
   "source": [
    "model.coef_"
   ]
  },
  {
   "cell_type": "code",
   "execution_count": 9,
   "metadata": {
    "collapsed": true
   },
   "outputs": [],
   "source": [
    "predicted = model.predict(X_test)\n",
    "results = pd.DataFrame({\"Actual\":y_test,\"predicted\":predicted})"
   ]
  },
  {
   "cell_type": "code",
   "execution_count": 10,
   "metadata": {},
   "outputs": [
    {
     "data": {
      "text/html": [
       "<div>\n",
       "<style scoped>\n",
       "    .dataframe tbody tr th:only-of-type {\n",
       "        vertical-align: middle;\n",
       "    }\n",
       "\n",
       "    .dataframe tbody tr th {\n",
       "        vertical-align: top;\n",
       "    }\n",
       "\n",
       "    .dataframe thead th {\n",
       "        text-align: right;\n",
       "    }\n",
       "</style>\n",
       "<table border=\"1\" class=\"dataframe\">\n",
       "  <thead>\n",
       "    <tr style=\"text-align: right;\">\n",
       "      <th></th>\n",
       "      <th>Actual</th>\n",
       "      <th>predicted</th>\n",
       "    </tr>\n",
       "  </thead>\n",
       "  <tbody>\n",
       "    <tr>\n",
       "      <th>208</th>\n",
       "      <td>158.830002</td>\n",
       "      <td>148.652661</td>\n",
       "    </tr>\n",
       "    <tr>\n",
       "      <th>6</th>\n",
       "      <td>126.239998</td>\n",
       "      <td>126.797137</td>\n",
       "    </tr>\n",
       "    <tr>\n",
       "      <th>79</th>\n",
       "      <td>137.520004</td>\n",
       "      <td>137.380721</td>\n",
       "    </tr>\n",
       "    <tr>\n",
       "      <th>204</th>\n",
       "      <td>150.619995</td>\n",
       "      <td>153.959260</td>\n",
       "    </tr>\n",
       "    <tr>\n",
       "      <th>117</th>\n",
       "      <td>143.369995</td>\n",
       "      <td>143.800067</td>\n",
       "    </tr>\n",
       "  </tbody>\n",
       "</table>\n",
       "</div>"
      ],
      "text/plain": [
       "         Actual   predicted\n",
       "208  158.830002  148.652661\n",
       "6    126.239998  126.797137\n",
       "79   137.520004  137.380721\n",
       "204  150.619995  153.959260\n",
       "117  143.369995  143.800067"
      ]
     },
     "execution_count": 10,
     "metadata": {},
     "output_type": "execute_result"
    }
   ],
   "source": [
    "results.head()"
   ]
  },
  {
   "cell_type": "code",
   "execution_count": 11,
   "metadata": {},
   "outputs": [
    {
     "name": "stdout",
     "output_type": "stream",
     "text": [
      "Mean Absolute error : 1.1728225624522781\n",
      "Mean squared error : 3.9563373345384085\n",
      "Mean Absolute error : 1.989054381996231\n"
     ]
    }
   ],
   "source": [
    "print(\"Mean Absolute error : {0}\".format(metrics.mean_absolute_error(y_test,predicted)))\n",
    "print(\"Mean squared error : {0}\".format(metrics.mean_squared_error(y_test,predicted)))\n",
    "print(\"Mean Absolute error : {0}\".format(math.sqrt(metrics.mean_squared_error(y_test,predicted))))"
   ]
  },
  {
   "cell_type": "code",
   "execution_count": 12,
   "metadata": {},
   "outputs": [
    {
     "data": {
      "text/plain": [
       "<matplotlib.axes._subplots.AxesSubplot at 0x212ddc5edd8>"
      ]
     },
     "execution_count": 12,
     "metadata": {},
     "output_type": "execute_result"
    },
    {
     "data": {
      "image/png": "[encoded data removed]",
      "text/plain": [
       "<Figure size 432x288 with 1 Axes>"
      ]
     },
     "metadata": {},
     "output_type": "display_data"
    }
   ],
   "source": [
    "graph = results.head(20)\n",
    "graph.plot(kind='bar')"
   ]
  },
  {
   "cell_type": "markdown",
   "metadata": {},
   "source": [
    "#### MODEL 2"
   ]
  },
  {
   "cell_type": "code",
   "execution_count": 13,
   "metadata": {},
   "outputs": [
    {
     "data": {
      "text/html": [
       "<div>\n",
       "<style scoped>\n",
       "    .dataframe tbody tr th:only-of-type {\n",
       "        vertical-align: middle;\n",
       "    }\n",
       "\n",
       "    .dataframe tbody tr th {\n",
       "        vertical-align: top;\n",
       "    }\n",
       "\n",
       "    .dataframe thead th {\n",
       "        text-align: right;\n",
       "    }\n",
       "</style>\n",
       "<table border=\"1\" class=\"dataframe\">\n",
       "  <thead>\n",
       "    <tr style=\"text-align: right;\">\n",
       "      <th></th>\n",
       "      <th>Date</th>\n",
       "      <th>Open</th>\n",
       "      <th>High</th>\n",
       "      <th>Low</th>\n",
       "      <th>Close</th>\n",
       "      <th>Adj Close</th>\n",
       "      <th>Volume</th>\n",
       "    </tr>\n",
       "  </thead>\n",
       "  <tbody>\n",
       "    <tr>\n",
       "      <th>0</th>\n",
       "      <td>2019-05-16</td>\n",
       "      <td>126.750000</td>\n",
       "      <td>129.380005</td>\n",
       "      <td>126.459999</td>\n",
       "      <td>128.929993</td>\n",
       "      <td>127.717468</td>\n",
       "      <td>30112200</td>\n",
       "    </tr>\n",
       "    <tr>\n",
       "      <th>1</th>\n",
       "      <td>2019-05-17</td>\n",
       "      <td>128.309998</td>\n",
       "      <td>130.460007</td>\n",
       "      <td>127.919998</td>\n",
       "      <td>128.070007</td>\n",
       "      <td>126.865570</td>\n",
       "      <td>25770500</td>\n",
       "    </tr>\n",
       "    <tr>\n",
       "      <th>2</th>\n",
       "      <td>2019-05-20</td>\n",
       "      <td>126.519997</td>\n",
       "      <td>127.589996</td>\n",
       "      <td>125.760002</td>\n",
       "      <td>126.220001</td>\n",
       "      <td>125.032967</td>\n",
       "      <td>23706900</td>\n",
       "    </tr>\n",
       "    <tr>\n",
       "      <th>3</th>\n",
       "      <td>2019-05-21</td>\n",
       "      <td>127.430000</td>\n",
       "      <td>127.529999</td>\n",
       "      <td>126.580002</td>\n",
       "      <td>126.900002</td>\n",
       "      <td>125.706573</td>\n",
       "      <td>15293300</td>\n",
       "    </tr>\n",
       "    <tr>\n",
       "      <th>4</th>\n",
       "      <td>2019-05-22</td>\n",
       "      <td>126.620003</td>\n",
       "      <td>128.240005</td>\n",
       "      <td>126.519997</td>\n",
       "      <td>127.669998</td>\n",
       "      <td>126.469322</td>\n",
       "      <td>15396500</td>\n",
       "    </tr>\n",
       "  </tbody>\n",
       "</table>\n",
       "</div>"
      ],
      "text/plain": [
       "         Date        Open        High         Low       Close   Adj Close  \\\n",
       "0  2019-05-16  126.750000  129.380005  126.459999  128.929993  127.717468   \n",
       "1  2019-05-17  128.309998  130.460007  127.919998  128.070007  126.865570   \n",
       "2  2019-05-20  126.519997  127.589996  125.760002  126.220001  125.032967   \n",
       "3  2019-05-21  127.430000  127.529999  126.580002  126.900002  125.706573   \n",
       "4  2019-05-22  126.620003  128.240005  126.519997  127.669998  126.469322   \n",
       "\n",
       "     Volume  \n",
       "0  30112200  \n",
       "1  25770500  \n",
       "2  23706900  \n",
       "3  15293300  \n",
       "4  15396500  "
      ]
     },
     "execution_count": 13,
     "metadata": {},
     "output_type": "execute_result"
    }
   ],
   "source": [
    "dataset.head()"
   ]
  },
  {
   "cell_type": "code",
   "execution_count": 14,
   "metadata": {
    "collapsed": true
   },
   "outputs": [],
   "source": [
    "import numpy as np\n",
    "from sklearn.linear_model import LinearRegression\n",
    "from sklearn.svm import SVR\n",
    "from sklearn.model_selection import train_test_split"
   ]
  },
  {
   "cell_type": "code",
   "execution_count": 15,
   "metadata": {},
   "outputs": [],
   "source": [
    "forecast_days = 20\n",
    "forecast = dataset[\"Adj Close\"].shift(-forecast_days)"
   ]
  },
  {
   "cell_type": "code",
   "execution_count": 16,
   "metadata": {},
   "outputs": [
    {
     "data": {
      "text/plain": [
       "233   NaN\n",
       "234   NaN\n",
       "235   NaN\n",
       "236   NaN\n",
       "237   NaN\n",
       "238   NaN\n",
       "239   NaN\n",
       "240   NaN\n",
       "241   NaN\n",
       "242   NaN\n",
       "243   NaN\n",
       "244   NaN\n",
       "245   NaN\n",
       "246   NaN\n",
       "247   NaN\n",
       "248   NaN\n",
       "249   NaN\n",
       "250   NaN\n",
       "251   NaN\n",
       "252   NaN\n",
       "Name: Adj Close, dtype: float64"
      ]
     },
     "execution_count": 16,
     "metadata": {},
     "output_type": "execute_result"
    }
   ],
   "source": [
    "forecast.tail(20)"
   ]
  },
  {
   "cell_type": "code",
   "execution_count": 17,
   "metadata": {},
   "outputs": [],
   "source": [
    "X = np.array(dataset[[\"Adj Close\"]])\n",
    "X = X[:-forecast_days]"
   ]
  },
  {
   "cell_type": "code",
   "execution_count": 18,
   "metadata": {},
   "outputs": [
    {
     "name": "stdout",
     "output_type": "stream",
     "text": [
      "233 233\n"
     ]
    }
   ],
   "source": [
    "y = np.array(forecast[:-forecast_days])\n",
    "print(len(X),len(y))"
   ]
  },
  {
   "cell_type": "code",
   "execution_count": 19,
   "metadata": {
    "collapsed": true
   },
   "outputs": [],
   "source": [
    "# split data to train and test sets\n",
    "X_train, X_test, y_train, y_test = train_test_split( X, y, test_size=0.25, random_state=42)"
   ]
  },
  {
   "cell_type": "code",
   "execution_count": 20,
   "metadata": {},
   "outputs": [
    {
     "data": {
      "text/plain": [
       "SVR(C=1000.0, cache_size=200, coef0=0.0, degree=3, epsilon=0.1, gamma=0.1,\n",
       "  kernel='rbf', max_iter=-1, shrinking=True, tol=0.001, verbose=False)"
      ]
     },
     "execution_count": 20,
     "metadata": {},
     "output_type": "execute_result"
    }
   ],
   "source": [
    "# SVM regressor\n",
    "svr = SVR(kernel='rbf',C=1e3,gamma=0.1)\n",
    "svr.fit(X_train,y_train)"
   ]
  },
  {
   "cell_type": "code",
   "execution_count": 21,
   "metadata": {},
   "outputs": [
    {
     "name": "stdout",
     "output_type": "stream",
     "text": [
      "Confidence score : 0.361147638288506\n"
     ]
    }
   ],
   "source": [
    "svr_confidence = svr.score(X_test,y_test)\n",
    "print(\"Confidence score : {0}\".format(svr_confidence))"
   ]
  },
  {
   "cell_type": "code",
   "execution_count": 22,
   "metadata": {},
   "outputs": [
    {
     "data": {
      "text/plain": [
       "LinearRegression(copy_X=True, fit_intercept=True, n_jobs=1, normalize=False)"
      ]
     },
     "execution_count": 22,
     "metadata": {},
     "output_type": "execute_result"
    }
   ],
   "source": [
    "# Linear Regression\n",
    "lr_model2 = LinearRegression()\n",
    "lr_model2.fit(X_train,y_train)"
   ]
  },
  {
   "cell_type": "code",
   "execution_count": 23,
   "metadata": {},
   "outputs": [
    {
     "name": "stdout",
     "output_type": "stream",
     "text": [
      "0.512510398019\n"
     ]
    }
   ],
   "source": [
    "lr2_confidence = lr_model2.score(X_test,y_test)\n",
    "print(lr2_confidence)"
   ]
  },
  {
   "cell_type": "code",
   "execution_count": 24,
   "metadata": {},
   "outputs": [],
   "source": [
    "# Forecasting on last 10 values which we shifted earlier\n",
    "# using lr_model2\n",
    "x_forecast = np.array(dataset[[\"Adj Close\"]][-forecast_days:])\n",
    "predicted_values = lr_model2.predict(x_forecast)"
   ]
  },
  {
   "cell_type": "code",
   "execution_count": 25,
   "metadata": {},
   "outputs": [],
   "source": [
    "actual_values = dataset[\"Adj Close\"][-forecast_days:]\n",
    "results = pd.DataFrame({\"actual\":actual_values,\"predicted\":predicted_values})"
   ]
  },
  {
   "cell_type": "code",
   "execution_count": 26,
   "metadata": {},
   "outputs": [
    {
     "data": {
      "text/plain": [
       "<matplotlib.axes._subplots.AxesSubplot at 0x212de1f2d68>"
      ]
     },
     "execution_count": 26,
     "metadata": {},
     "output_type": "execute_result"
    },
    {
     "data": {
      "image/png": "[encoded data removed]",
      "text/plain": [
       "<Figure size 432x288 with 1 Axes>"
      ]
     },
     "metadata": {},
     "output_type": "display_data"
    }
   ],
   "source": [
    "results.head()\n",
    "results.plot(kind='bar')"
   ]
  },
  {
   "cell_type": "markdown",
   "metadata": {},
   "source": [
    "#### "
   ]
  },
  {
   "cell_type": "code",
   "execution_count": 27,
   "metadata": {},
   "outputs": [],
   "source": [
    "from matplotlib import style"
   ]
  },
  {
   "cell_type": "code",
   "execution_count": 28,
   "metadata": {},
   "outputs": [
    {
     "data": {
      "text/plain": [
       "Text(0, 0.5, 'Price')"
      ]
     },
     "execution_count": 28,
     "metadata": {},
     "output_type": "execute_result"
    },
    {
     "data": {
      "image/png": "[encoded data removed]",
      "text/plain": [
       "<Figure size 432x288 with 1 Axes>"
      ]
     },
     "metadata": {},
     "output_type": "display_data"
    }
   ],
   "source": [
    "dataset[\"Adj Close\"][:-forecast_days].plot()\n",
    "results[\"predicted\"].plot()\n",
    "plt.ylabel(\"Price\")"
   ]
  },
  {
   "cell_type": "code",
   "execution_count": 29,
   "metadata": {},
   "outputs": [],
   "source": [
    "import pickle\n",
    "with open('C:/Users/varun/Desktop/Machine_Learning/src/LinearRegression_stockForecast_model.pickle','wb') as f:\n",
    "    pickle.dump(lr_model2,f)\n",
    "    "
   ]
  },
  {
   "cell_type": "code",
   "execution_count": 30,
   "metadata": {
    "collapsed": true
   },
   "outputs": [],
   "source": [
    "pickle_in = open('LinearRegression_stockForecast_model.pickle','rb')\n",
    "clf = pickle_in"
   ]
  },
  {
   "cell_type": "code",
   "execution_count": 31,
   "metadata": {
    "collapsed": true
   },
   "outputs": [],
   "source": [
    "#### Linear Regression"
   ]
  },
  {
   "cell_type": "code",
   "execution_count": 32,
   "metadata": {},
   "outputs": [
    {
     "data": {
      "text/html": [
       "<div>\n",
       "<style scoped>\n",
       "    .dataframe tbody tr th:only-of-type {\n",
       "        vertical-align: middle;\n",
       "    }\n",
       "\n",
       "    .dataframe tbody tr th {\n",
       "        vertical-align: top;\n",
       "    }\n",
       "\n",
       "    .dataframe thead th {\n",
       "        text-align: right;\n",
       "    }\n",
       "</style>\n",
       "<table border=\"1\" class=\"dataframe\">\n",
       "  <thead>\n",
       "    <tr style=\"text-align: right;\">\n",
       "      <th></th>\n",
       "      <th>Serial No.</th>\n",
       "      <th>GRE Score</th>\n",
       "      <th>TOEFL Score</th>\n",
       "      <th>University Rating</th>\n",
       "      <th>SOP</th>\n",
       "      <th>LOR</th>\n",
       "      <th>CGPA</th>\n",
       "      <th>Research</th>\n",
       "      <th>Chance of Admit</th>\n",
       "    </tr>\n",
       "  </thead>\n",
       "  <tbody>\n",
       "    <tr>\n",
       "      <th>0</th>\n",
       "      <td>1</td>\n",
       "      <td>337</td>\n",
       "      <td>118</td>\n",
       "      <td>4</td>\n",
       "      <td>4.5</td>\n",
       "      <td>4.5</td>\n",
       "      <td>9.65</td>\n",
       "      <td>1</td>\n",
       "      <td>0.92</td>\n",
       "    </tr>\n",
       "    <tr>\n",
       "      <th>1</th>\n",
       "      <td>2</td>\n",
       "      <td>324</td>\n",
       "      <td>107</td>\n",
       "      <td>4</td>\n",
       "      <td>4.0</td>\n",
       "      <td>4.5</td>\n",
       "      <td>8.87</td>\n",
       "      <td>1</td>\n",
       "      <td>0.76</td>\n",
       "    </tr>\n",
       "    <tr>\n",
       "      <th>2</th>\n",
       "      <td>3</td>\n",
       "      <td>316</td>\n",
       "      <td>104</td>\n",
       "      <td>3</td>\n",
       "      <td>3.0</td>\n",
       "      <td>3.5</td>\n",
       "      <td>8.00</td>\n",
       "      <td>1</td>\n",
       "      <td>0.72</td>\n",
       "    </tr>\n",
       "    <tr>\n",
       "      <th>3</th>\n",
       "      <td>4</td>\n",
       "      <td>322</td>\n",
       "      <td>110</td>\n",
       "      <td>3</td>\n",
       "      <td>3.5</td>\n",
       "      <td>2.5</td>\n",
       "      <td>8.67</td>\n",
       "      <td>1</td>\n",
       "      <td>0.80</td>\n",
       "    </tr>\n",
       "    <tr>\n",
       "      <th>4</th>\n",
       "      <td>5</td>\n",
       "      <td>314</td>\n",
       "      <td>103</td>\n",
       "      <td>2</td>\n",
       "      <td>2.0</td>\n",
       "      <td>3.0</td>\n",
       "      <td>8.21</td>\n",
       "      <td>0</td>\n",
       "      <td>0.65</td>\n",
       "    </tr>\n",
       "  </tbody>\n",
       "</table>\n",
       "</div>"
      ],
      "text/plain": [
       "   Serial No.  GRE Score  TOEFL Score  University Rating  SOP  LOR   CGPA  \\\n",
       "0           1        337          118                  4  4.5   4.5  9.65   \n",
       "1           2        324          107                  4  4.0   4.5  8.87   \n",
       "2           3        316          104                  3  3.0   3.5  8.00   \n",
       "3           4        322          110                  3  3.5   2.5  8.67   \n",
       "4           5        314          103                  2  2.0   3.0  8.21   \n",
       "\n",
       "   Research  Chance of Admit   \n",
       "0         1              0.92  \n",
       "1         1              0.76  \n",
       "2         1              0.72  \n",
       "3         1              0.80  \n",
       "4         0              0.65  "
      ]
     },
     "execution_count": 32,
     "metadata": {},
     "output_type": "execute_result"
    }
   ],
   "source": [
    "dataset2 = pd.read_csv('datasets_14872_228180_Admission_Predict.csv')\n",
    "dataset2.head()"
   ]
  },
  {
   "cell_type": "code",
   "execution_count": 33,
   "metadata": {},
   "outputs": [
    {
     "data": {
      "text/plain": [
       "GRE Score            0\n",
       "TOEFL Score          0\n",
       "University Rating    0\n",
       "SOP                  0\n",
       "LOR                  0\n",
       "CGPA                 0\n",
       "Research             0\n",
       "Chance of Admit      0\n",
       "dtype: int64"
      ]
     },
     "execution_count": 33,
     "metadata": {},
     "output_type": "execute_result"
    }
   ],
   "source": [
    "df = dataset2.drop(['Serial No.'],axis=1)\n",
    "df.isnull().sum()"
   ]
  },
  {
   "cell_type": "code",
   "execution_count": 34,
   "metadata": {},
   "outputs": [
    {
     "name": "stderr",
     "output_type": "stream",
     "text": [
      "C:\\Users\\varun\\Anaconda\\lib\\site-packages\\seaborn\\distributions.py:215: MatplotlibDeprecationWarning: \n",
      "The 'normed' kwarg was deprecated in Matplotlib 2.1 and will be removed in 3.1. Use 'density' instead.\n",
      "  color=hist_color, **hist_kws)\n"
     ]
    },
    {
     "data": {
      "image/png": "[encoded data removed]",
      "text/plain": [
       "<Figure size 576x396 with 1 Axes>"
      ]
     },
     "metadata": {},
     "output_type": "display_data"
    },
    {
     "name": "stderr",
     "output_type": "stream",
     "text": [
      "C:\\Users\\varun\\Anaconda\\lib\\site-packages\\seaborn\\distributions.py:215: MatplotlibDeprecationWarning: \n",
      "The 'normed' kwarg was deprecated in Matplotlib 2.1 and will be removed in 3.1. Use 'density' instead.\n",
      "  color=hist_color, **hist_kws)\n"
     ]
    },
    {
     "data": {
      "image/png": "[encoded data removed]",
      "text/plain": [
       "<Figure size 576x396 with 1 Axes>"
      ]
     },
     "metadata": {},
     "output_type": "display_data"
    },
    {
     "name": "stderr",
     "output_type": "stream",
     "text": [
      "C:\\Users\\varun\\Anaconda\\lib\\site-packages\\seaborn\\distributions.py:215: MatplotlibDeprecationWarning: \n",
      "The 'normed' kwarg was deprecated in Matplotlib 2.1 and will be removed in 3.1. Use 'density' instead.\n",
      "  color=hist_color, **hist_kws)\n"
     ]
    },
    {
     "data": {
      "image/png": "[encoded data removed]",
      "text/plain": [
       "<Figure size 576x396 with 1 Axes>"
      ]
     },
     "metadata": {},
     "output_type": "display_data"
    },
    {
     "name": "stderr",
     "output_type": "stream",
     "text": [
      "C:\\Users\\varun\\Anaconda\\lib\\site-packages\\seaborn\\distributions.py:215: MatplotlibDeprecationWarning: \n",
      "The 'normed' kwarg was deprecated in Matplotlib 2.1 and will be removed in 3.1. Use 'density' instead.\n",
      "  color=hist_color, **hist_kws)\n"
     ]
    },
    {
     "data": {
      "image/png": "[encoded data removed]",
      "text/plain": [
       "<Figure size 576x396 with 1 Axes>"
      ]
     },
     "metadata": {},
     "output_type": "display_data"
    },
    {
     "name": "stderr",
     "output_type": "stream",
     "text": [
      "C:\\Users\\varun\\Anaconda\\lib\\site-packages\\seaborn\\distributions.py:215: MatplotlibDeprecationWarning: \n",
      "The 'normed' kwarg was deprecated in Matplotlib 2.1 and will be removed in 3.1. Use 'density' instead.\n",
      "  color=hist_color, **hist_kws)\n"
     ]
    },
    {
     "data": {
      "image/png": "[encoded data removed]",
      "text/plain": [
       "<Figure size 576x396 with 1 Axes>"
      ]
     },
     "metadata": {},
     "output_type": "display_data"
    }
   ],
   "source": [
    "import seaborn as sns\n",
    "\n",
    "\n",
    "fig = sns.distplot(df['GRE Score'], kde=False)\n",
    "plt.title(\"Distribution of GRE Scores\")\n",
    "plt.show()\n",
    "\n",
    "fig = sns.distplot(df['TOEFL Score'], kde=False)\n",
    "plt.title(\"Distribution of TOEFL Scores\")\n",
    "plt.show()\n",
    "\n",
    "fig = sns.distplot(df['University Rating'], kde=False)\n",
    "plt.title(\"Distribution of University Rating\")\n",
    "plt.show()\n",
    "\n",
    "fig = sns.distplot(df['SOP'], kde=False)\n",
    "plt.title(\"Distribution of SOP Ratings\")\n",
    "plt.show()\n",
    "\n",
    "fig = sns.distplot(df['CGPA'], kde=False)\n",
    "plt.title(\"Distribution of CGPA\")\n",
    "plt.show()\n"
   ]
  },
  {
   "cell_type": "code",
   "execution_count": 35,
   "metadata": {},
   "outputs": [
    {
     "name": "stdout",
     "output_type": "stream",
     "text": [
      "                   GRE Score  TOEFL Score  University Rating       SOP  \\\n",
      "GRE Score           1.000000     0.835977           0.668976  0.612831   \n",
      "TOEFL Score         0.835977     1.000000           0.695590  0.657981   \n",
      "University Rating   0.668976     0.695590           1.000000  0.734523   \n",
      "SOP                 0.612831     0.657981           0.734523  1.000000   \n",
      "LOR                 0.557555     0.567721           0.660123  0.729593   \n",
      "CGPA                0.833060     0.828417           0.746479  0.718144   \n",
      "Research            0.580391     0.489858           0.447783  0.444029   \n",
      "\n",
      "                       LOR       CGPA  Research  \n",
      "GRE Score          0.557555  0.833060  0.580391  \n",
      "TOEFL Score        0.567721  0.828417  0.489858  \n",
      "University Rating  0.660123  0.746479  0.447783  \n",
      "SOP                0.729593  0.718144  0.444029  \n",
      "LOR                1.000000  0.670211  0.396859  \n",
      "CGPA               0.670211  1.000000  0.521654  \n",
      "Research           0.396859  0.521654  1.000000  \n"
     ]
    },
    {
     "data": {
      "image/png": "[encoded data removed]",
      "text/plain": [
       "<Figure size 576x576 with 2 Axes>"
      ]
     },
     "metadata": {},
     "output_type": "display_data"
    }
   ],
   "source": [
    "corr = df.loc[:,df.columns != 'Chance of Admit '].corr() \n",
    "print(corr)\n",
    "fig, ax = plt.subplots(figsize=(8, 8))\n",
    "colormap = sns.diverging_palette(220, 10, as_cmap=True)\n",
    "dropSelf = np.zeros_like(corr)\n",
    "dropSelf[np.triu_indices_from(dropSelf)] = True\n",
    "colormap = sns.diverging_palette(220, 10, as_cmap=True)\n",
    "sns.heatmap(corr, cmap=colormap, linewidths=.5, annot=True, fmt=\".2f\", mask=dropSelf)\n",
    "plt.show()"
   ]
  },
  {
   "cell_type": "code",
   "execution_count": 36,
   "metadata": {
    "collapsed": true
   },
   "outputs": [],
   "source": [
    "X = df.drop(['Chance of Admit '], axis=1)\n",
    "y = df['Chance of Admit ']\n",
    "X_train, X_test, y_train, y_test = train_test_split(X,y,test_size = 0.20)\n"
   ]
  },
  {
   "cell_type": "code",
   "execution_count": 37,
   "metadata": {},
   "outputs": [
    {
     "name": "stdout",
     "output_type": "stream",
     "text": [
      "Linear Regression 0.0792044726009\n"
     ]
    }
   ],
   "source": [
    "from sklearn.metrics import mean_squared_error\n",
    "\n",
    "model = LinearRegression()\n",
    "model.fit(X_train, y_train)\n",
    "predictions = model.predict(X_test)\n",
    "print(\"Linear Regression\",np.sqrt(mean_squared_error(y_test, predictions)))"
   ]
  },
  {
   "cell_type": "code",
   "execution_count": 44,
   "metadata": {
    "collapsed": true
   },
   "outputs": [],
   "source": [
    "from collections import defaultdict\n",
    "models = defaultdict(list)\n"
   ]
  },
  {
   "cell_type": "code",
   "execution_count": 49,
   "metadata": {},
   "outputs": [],
   "source": [
    "y = df['Chance of Admit ']\n",
    "for col in X.columns:\n",
    "    X_cols = df[[col]]\n",
    "    for _ in range(5):\n",
    "        X_train, X_test, y_train, y_test = train_test_split(X_cols,y,test_size = 0.20,shuffle= True)\n",
    "        model = LinearRegression()\n",
    "        model.fit(X_train,y_train)\n",
    "        predictions = model.predict(X_test)\n",
    "        models[col].append(np.sqrt(mean_squared_error(y_test,predictions)))\n",
    "        "
   ]
  },
  {
   "cell_type": "code",
   "execution_count": 54,
   "metadata": {},
   "outputs": [
    {
     "name": "stdout",
     "output_type": "stream",
     "text": [
      "column GRE Score  has error : 0.08510749722237848\n",
      "column TOEFL Score  has error : 0.0896325677261744\n",
      "column University Rating  has error : 0.10251515091044894\n",
      "column SOP  has error : 0.10415566220405101\n",
      "column LOR   has error : 0.105539361382881\n",
      "column CGPA  has error : 0.06815772428567775\n",
      "column Research  has error : 0.12713504897286432\n"
     ]
    }
   ],
   "source": [
    "for col in models:\n",
    "    print(\"column {0}  has error : {1}\".format(col,np.mean(models[col])))"
   ]
  },
  {
   "cell_type": "code",
   "execution_count": 55,
   "metadata": {
    "collapsed": true
   },
   "outputs": [],
   "source": [
    "# CGPA, GRE Score, TOEFL Score has least error in ascending order\n",
    "# the three columns have high collinearity 0.83 with each other we can choose 1 column for the model - CGPA"
   ]
  },
  {
   "cell_type": "code",
   "execution_count": 59,
   "metadata": {},
   "outputs": [
    {
     "data": {
      "text/plain": [
       "LinearRegression(copy_X=True, fit_intercept=True, n_jobs=1, normalize=False)"
      ]
     },
     "execution_count": 59,
     "metadata": {},
     "output_type": "execute_result"
    }
   ],
   "source": [
    "X = df[[\"CGPA\"]]\n",
    "y = df[\"Chance of Admit \"]\n",
    "X_train, X_test, y_train, y_test = train_test_split(X_cols,y,test_size = 0.20,shuffle= True)\n",
    "final_model = LinearRegression()\n",
    "final_model.fit(X_train,y_train)"
   ]
  },
  {
   "cell_type": "code",
   "execution_count": 60,
   "metadata": {
    "collapsed": true
   },
   "outputs": [],
   "source": [
    "with open(\"finalModel_admission.pickle\",\"wb\") as f:\n",
    "    pickle.dump(final_model,f)"
   ]
  },
  {
   "cell_type": "code",
   "execution_count": 61,
   "metadata": {
    "collapsed": true
   },
   "outputs": [],
   "source": [
    "## END"
   ]
  }
 ],
 "metadata": {
  "kernelspec": {
   "display_name": "Python 3",
   "language": "python",
   "name": "python3"
  },
  "language_info": {
   "codemirror_mode": {
    "name": "ipython",
    "version": 3
   },
   "file_extension": ".py",
   "mimetype": "text/x-python",
   "name": "python",
   "nbconvert_exporter": "python",
   "pygments_lexer": "ipython3",
   "version": "3.6.6"
  }
 },
 "nbformat": 4,
 "nbformat_minor": 2
}
